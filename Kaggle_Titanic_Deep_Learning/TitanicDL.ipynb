{
  "cells": [
    {
      "cell_type": "markdown",
      "id": "reported-indonesian",
      "metadata": {
        "id": "reported-indonesian"
      },
      "source": [
        "<h1> Titanics Dataset Predictions </h1>\n",
        "<h2> Jose M. Serra Jr. </h2>\n",
        "<p> In this project I will be conducting a deep learning excercise where I will be using a deep learning neural network to predict the people that will be saved on the Titanic from the Knowledge Titanic Dataset."
      ]
    },
    {
      "cell_type": "code",
      "source": [
        "import os\n",
        "source = r'C:\\Users\\joses\\source\\repos\\Kaggle_Titanic_Artifical_Intelligence'\n",
        "os.chdir(source)"
      ],
      "metadata": {
        "id": "Qs3TrvN1xBS6"
      },
      "id": "Qs3TrvN1xBS6",
      "execution_count": 40,
      "outputs": []
    },
    {
      "cell_type": "code",
      "source": [
        "!echo %cd%"
      ],
      "metadata": {
        "colab": {
          "base_uri": "https://localhost:8080/"
        },
        "id": "y62F3C0dxMPq",
        "outputId": "b479b129-1299-4d1c-8070-9e2dfb58ab16"
      },
      "id": "y62F3C0dxMPq",
      "execution_count": 41,
      "outputs": [
        {
          "output_type": "stream",
          "name": "stdout",
          "text": [
            "C:\\Users\\joses\\source\\repos\\Kaggle_Titanic_Artifical_Intelligence\n"
          ]
        }
      ]
    },
    {
      "cell_type": "code",
      "execution_count": 42,
      "id": "forty-assessment",
      "metadata": {
        "id": "forty-assessment"
      },
      "outputs": [],
      "source": [
        "import matplotlib.pyplot as mplplt\n",
        "import numpy as np\n",
        "import pandas as pd\n",
        "from scipy.stats import reciprocal\n",
        "import tensorflow as tf\n",
        "import tensorflow.keras as keras\n",
        "from tensorflow.keras.callbacks import *\n",
        "from tensorflow.keras.layers import *\n",
        "from tensorflow.keras.metrics import *\n",
        "from tensorflow.keras.models import *\n",
        "from tensorflow.keras.optimizers import *\n",
        "from tensorflow.keras.optimizers.schedules import *\n",
        "import tensorflow.keras.callbacks as tkc\n",
        "from tensorflow.keras.wrappers.scikit_learn import KerasClassifier\n",
        "from sklearn.compose import make_column_transformer, ColumnTransformer\n",
        "from sklearn.impute import SimpleImputer\n",
        "from sklearn.model_selection import cross_val_score, GridSearchCV\n",
        "from sklearn.metrics import mean_squared_error\n",
        "from sklearn.pipeline import Pipeline\n",
        "from sklearn.preprocessing import StandardScaler, OneHotEncoder, OrdinalEncoder, LabelEncoder\n",
        "from sklearn.utils import resample"
      ]
    },
    {
      "cell_type": "markdown",
      "source": [
        "In this particular excercise we will be using TensorFlow mainly, and Scikit-Learn for preprocessing. We will being by using Pandas to read in the data."
      ],
      "metadata": {
        "id": "QA91Q4pSXScI"
      },
      "id": "QA91Q4pSXScI"
    },
    {
      "cell_type": "code",
      "execution_count": 333,
      "id": "developed-pioneer",
      "metadata": {
        "id": "developed-pioneer"
      },
      "outputs": [],
      "source": [
        "file1_train, file2_test = pd.read_csv(r\"train.csv\", delimiter=\",\"),\\\n",
        "pd.read_csv(r\"test.csv\", delimiter= \",\")"
      ]
    },
    {
      "cell_type": "code",
      "source": [
        "def func(df):\n",
        "  return pd.concat([df.head(),df.tail()])"
      ],
      "metadata": {
        "id": "wdGQqGP10HVc"
      },
      "id": "wdGQqGP10HVc",
      "execution_count": 334,
      "outputs": []
    },
    {
      "cell_type": "code",
      "source": [
        "func(file1_train)"
      ],
      "metadata": {
        "colab": {
          "base_uri": "https://localhost:8080/",
          "height": 397
        },
        "id": "_ki5AfYc0Sb0",
        "outputId": "4d1838e5-3dd7-4d80-e977-868e6573cd28"
      },
      "id": "_ki5AfYc0Sb0",
      "execution_count": 335,
      "outputs": [
        {
          "output_type": "execute_result",
          "data": {
            "text/plain": [
              "     PassengerId  Survived  Pclass  \\\n",
              "0              1         0       3   \n",
              "1              2         1       1   \n",
              "2              3         1       3   \n",
              "3              4         1       1   \n",
              "4              5         0       3   \n",
              "886          887         0       2   \n",
              "887          888         1       1   \n",
              "888          889         0       3   \n",
              "889          890         1       1   \n",
              "890          891         0       3   \n",
              "\n",
              "                                                  Name     Sex   Age  SibSp  \\\n",
              "0                              Braund, Mr. Owen Harris    male  22.0      1   \n",
              "1    Cumings, Mrs. John Bradley (Florence Briggs Th...  female  38.0      1   \n",
              "2                               Heikkinen, Miss. Laina  female  26.0      0   \n",
              "3         Futrelle, Mrs. Jacques Heath (Lily May Peel)  female  35.0      1   \n",
              "4                             Allen, Mr. William Henry    male  35.0      0   \n",
              "886                              Montvila, Rev. Juozas    male  27.0      0   \n",
              "887                       Graham, Miss. Margaret Edith  female  19.0      0   \n",
              "888           Johnston, Miss. Catherine Helen \"Carrie\"  female   NaN      1   \n",
              "889                              Behr, Mr. Karl Howell    male  26.0      0   \n",
              "890                                Dooley, Mr. Patrick    male  32.0      0   \n",
              "\n",
              "     Parch            Ticket     Fare Cabin Embarked  \n",
              "0        0         A/5 21171   7.2500   NaN        S  \n",
              "1        0          PC 17599  71.2833   C85        C  \n",
              "2        0  STON/O2. 3101282   7.9250   NaN        S  \n",
              "3        0            113803  53.1000  C123        S  \n",
              "4        0            373450   8.0500   NaN        S  \n",
              "886      0            211536  13.0000   NaN        S  \n",
              "887      0            112053  30.0000   B42        S  \n",
              "888      2        W./C. 6607  23.4500   NaN        S  \n",
              "889      0            111369  30.0000  C148        C  \n",
              "890      0            370376   7.7500   NaN        Q  "
            ],
            "text/html": [
              "<div>\n",
              "<style scoped>\n",
              "    .dataframe tbody tr th:only-of-type {\n",
              "        vertical-align: middle;\n",
              "    }\n",
              "\n",
              "    .dataframe tbody tr th {\n",
              "        vertical-align: top;\n",
              "    }\n",
              "\n",
              "    .dataframe thead th {\n",
              "        text-align: right;\n",
              "    }\n",
              "</style>\n",
              "<table border=\"1\" class=\"dataframe\">\n",
              "  <thead>\n",
              "    <tr style=\"text-align: right;\">\n",
              "      <th></th>\n",
              "      <th>PassengerId</th>\n",
              "      <th>Survived</th>\n",
              "      <th>Pclass</th>\n",
              "      <th>Name</th>\n",
              "      <th>Sex</th>\n",
              "      <th>Age</th>\n",
              "      <th>SibSp</th>\n",
              "      <th>Parch</th>\n",
              "      <th>Ticket</th>\n",
              "      <th>Fare</th>\n",
              "      <th>Cabin</th>\n",
              "      <th>Embarked</th>\n",
              "    </tr>\n",
              "  </thead>\n",
              "  <tbody>\n",
              "    <tr>\n",
              "      <th>0</th>\n",
              "      <td>1</td>\n",
              "      <td>0</td>\n",
              "      <td>3</td>\n",
              "      <td>Braund, Mr. Owen Harris</td>\n",
              "      <td>male</td>\n",
              "      <td>22.0</td>\n",
              "      <td>1</td>\n",
              "      <td>0</td>\n",
              "      <td>A/5 21171</td>\n",
              "      <td>7.2500</td>\n",
              "      <td>NaN</td>\n",
              "      <td>S</td>\n",
              "    </tr>\n",
              "    <tr>\n",
              "      <th>1</th>\n",
              "      <td>2</td>\n",
              "      <td>1</td>\n",
              "      <td>1</td>\n",
              "      <td>Cumings, Mrs. John Bradley (Florence Briggs Th...</td>\n",
              "      <td>female</td>\n",
              "      <td>38.0</td>\n",
              "      <td>1</td>\n",
              "      <td>0</td>\n",
              "      <td>PC 17599</td>\n",
              "      <td>71.2833</td>\n",
              "      <td>C85</td>\n",
              "      <td>C</td>\n",
              "    </tr>\n",
              "    <tr>\n",
              "      <th>2</th>\n",
              "      <td>3</td>\n",
              "      <td>1</td>\n",
              "      <td>3</td>\n",
              "      <td>Heikkinen, Miss. Laina</td>\n",
              "      <td>female</td>\n",
              "      <td>26.0</td>\n",
              "      <td>0</td>\n",
              "      <td>0</td>\n",
              "      <td>STON/O2. 3101282</td>\n",
              "      <td>7.9250</td>\n",
              "      <td>NaN</td>\n",
              "      <td>S</td>\n",
              "    </tr>\n",
              "    <tr>\n",
              "      <th>3</th>\n",
              "      <td>4</td>\n",
              "      <td>1</td>\n",
              "      <td>1</td>\n",
              "      <td>Futrelle, Mrs. Jacques Heath (Lily May Peel)</td>\n",
              "      <td>female</td>\n",
              "      <td>35.0</td>\n",
              "      <td>1</td>\n",
              "      <td>0</td>\n",
              "      <td>113803</td>\n",
              "      <td>53.1000</td>\n",
              "      <td>C123</td>\n",
              "      <td>S</td>\n",
              "    </tr>\n",
              "    <tr>\n",
              "      <th>4</th>\n",
              "      <td>5</td>\n",
              "      <td>0</td>\n",
              "      <td>3</td>\n",
              "      <td>Allen, Mr. William Henry</td>\n",
              "      <td>male</td>\n",
              "      <td>35.0</td>\n",
              "      <td>0</td>\n",
              "      <td>0</td>\n",
              "      <td>373450</td>\n",
              "      <td>8.0500</td>\n",
              "      <td>NaN</td>\n",
              "      <td>S</td>\n",
              "    </tr>\n",
              "    <tr>\n",
              "      <th>886</th>\n",
              "      <td>887</td>\n",
              "      <td>0</td>\n",
              "      <td>2</td>\n",
              "      <td>Montvila, Rev. Juozas</td>\n",
              "      <td>male</td>\n",
              "      <td>27.0</td>\n",
              "      <td>0</td>\n",
              "      <td>0</td>\n",
              "      <td>211536</td>\n",
              "      <td>13.0000</td>\n",
              "      <td>NaN</td>\n",
              "      <td>S</td>\n",
              "    </tr>\n",
              "    <tr>\n",
              "      <th>887</th>\n",
              "      <td>888</td>\n",
              "      <td>1</td>\n",
              "      <td>1</td>\n",
              "      <td>Graham, Miss. Margaret Edith</td>\n",
              "      <td>female</td>\n",
              "      <td>19.0</td>\n",
              "      <td>0</td>\n",
              "      <td>0</td>\n",
              "      <td>112053</td>\n",
              "      <td>30.0000</td>\n",
              "      <td>B42</td>\n",
              "      <td>S</td>\n",
              "    </tr>\n",
              "    <tr>\n",
              "      <th>888</th>\n",
              "      <td>889</td>\n",
              "      <td>0</td>\n",
              "      <td>3</td>\n",
              "      <td>Johnston, Miss. Catherine Helen \"Carrie\"</td>\n",
              "      <td>female</td>\n",
              "      <td>NaN</td>\n",
              "      <td>1</td>\n",
              "      <td>2</td>\n",
              "      <td>W./C. 6607</td>\n",
              "      <td>23.4500</td>\n",
              "      <td>NaN</td>\n",
              "      <td>S</td>\n",
              "    </tr>\n",
              "    <tr>\n",
              "      <th>889</th>\n",
              "      <td>890</td>\n",
              "      <td>1</td>\n",
              "      <td>1</td>\n",
              "      <td>Behr, Mr. Karl Howell</td>\n",
              "      <td>male</td>\n",
              "      <td>26.0</td>\n",
              "      <td>0</td>\n",
              "      <td>0</td>\n",
              "      <td>111369</td>\n",
              "      <td>30.0000</td>\n",
              "      <td>C148</td>\n",
              "      <td>C</td>\n",
              "    </tr>\n",
              "    <tr>\n",
              "      <th>890</th>\n",
              "      <td>891</td>\n",
              "      <td>0</td>\n",
              "      <td>3</td>\n",
              "      <td>Dooley, Mr. Patrick</td>\n",
              "      <td>male</td>\n",
              "      <td>32.0</td>\n",
              "      <td>0</td>\n",
              "      <td>0</td>\n",
              "      <td>370376</td>\n",
              "      <td>7.7500</td>\n",
              "      <td>NaN</td>\n",
              "      <td>Q</td>\n",
              "    </tr>\n",
              "  </tbody>\n",
              "</table>\n",
              "</div>"
            ]
          },
          "metadata": {},
          "execution_count": 335
        }
      ]
    },
    {
      "cell_type": "code",
      "source": [
        "func(file2_test)"
      ],
      "metadata": {
        "colab": {
          "base_uri": "https://localhost:8080/",
          "height": 363
        },
        "id": "0Tb1CinU0U6s",
        "outputId": "5a34b4c3-2620-49ad-97d9-ecd7009d88a6"
      },
      "id": "0Tb1CinU0U6s",
      "execution_count": 336,
      "outputs": [
        {
          "output_type": "execute_result",
          "data": {
            "text/plain": [
              "     PassengerId  Pclass                                          Name  \\\n",
              "0            892       3                              Kelly, Mr. James   \n",
              "1            893       3              Wilkes, Mrs. James (Ellen Needs)   \n",
              "2            894       2                     Myles, Mr. Thomas Francis   \n",
              "3            895       3                              Wirz, Mr. Albert   \n",
              "4            896       3  Hirvonen, Mrs. Alexander (Helga E Lindqvist)   \n",
              "413         1305       3                            Spector, Mr. Woolf   \n",
              "414         1306       1                  Oliva y Ocana, Dona. Fermina   \n",
              "415         1307       3                  Saether, Mr. Simon Sivertsen   \n",
              "416         1308       3                           Ware, Mr. Frederick   \n",
              "417         1309       3                      Peter, Master. Michael J   \n",
              "\n",
              "        Sex   Age  SibSp  Parch              Ticket      Fare Cabin Embarked  \n",
              "0      male  34.5      0      0              330911    7.8292   NaN        Q  \n",
              "1    female  47.0      1      0              363272    7.0000   NaN        S  \n",
              "2      male  62.0      0      0              240276    9.6875   NaN        Q  \n",
              "3      male  27.0      0      0              315154    8.6625   NaN        S  \n",
              "4    female  22.0      1      1             3101298   12.2875   NaN        S  \n",
              "413    male   NaN      0      0           A.5. 3236    8.0500   NaN        S  \n",
              "414  female  39.0      0      0            PC 17758  108.9000  C105        C  \n",
              "415    male  38.5      0      0  SOTON/O.Q. 3101262    7.2500   NaN        S  \n",
              "416    male   NaN      0      0              359309    8.0500   NaN        S  \n",
              "417    male   NaN      1      1                2668   22.3583   NaN        C  "
            ],
            "text/html": [
              "<div>\n",
              "<style scoped>\n",
              "    .dataframe tbody tr th:only-of-type {\n",
              "        vertical-align: middle;\n",
              "    }\n",
              "\n",
              "    .dataframe tbody tr th {\n",
              "        vertical-align: top;\n",
              "    }\n",
              "\n",
              "    .dataframe thead th {\n",
              "        text-align: right;\n",
              "    }\n",
              "</style>\n",
              "<table border=\"1\" class=\"dataframe\">\n",
              "  <thead>\n",
              "    <tr style=\"text-align: right;\">\n",
              "      <th></th>\n",
              "      <th>PassengerId</th>\n",
              "      <th>Pclass</th>\n",
              "      <th>Name</th>\n",
              "      <th>Sex</th>\n",
              "      <th>Age</th>\n",
              "      <th>SibSp</th>\n",
              "      <th>Parch</th>\n",
              "      <th>Ticket</th>\n",
              "      <th>Fare</th>\n",
              "      <th>Cabin</th>\n",
              "      <th>Embarked</th>\n",
              "    </tr>\n",
              "  </thead>\n",
              "  <tbody>\n",
              "    <tr>\n",
              "      <th>0</th>\n",
              "      <td>892</td>\n",
              "      <td>3</td>\n",
              "      <td>Kelly, Mr. James</td>\n",
              "      <td>male</td>\n",
              "      <td>34.5</td>\n",
              "      <td>0</td>\n",
              "      <td>0</td>\n",
              "      <td>330911</td>\n",
              "      <td>7.8292</td>\n",
              "      <td>NaN</td>\n",
              "      <td>Q</td>\n",
              "    </tr>\n",
              "    <tr>\n",
              "      <th>1</th>\n",
              "      <td>893</td>\n",
              "      <td>3</td>\n",
              "      <td>Wilkes, Mrs. James (Ellen Needs)</td>\n",
              "      <td>female</td>\n",
              "      <td>47.0</td>\n",
              "      <td>1</td>\n",
              "      <td>0</td>\n",
              "      <td>363272</td>\n",
              "      <td>7.0000</td>\n",
              "      <td>NaN</td>\n",
              "      <td>S</td>\n",
              "    </tr>\n",
              "    <tr>\n",
              "      <th>2</th>\n",
              "      <td>894</td>\n",
              "      <td>2</td>\n",
              "      <td>Myles, Mr. Thomas Francis</td>\n",
              "      <td>male</td>\n",
              "      <td>62.0</td>\n",
              "      <td>0</td>\n",
              "      <td>0</td>\n",
              "      <td>240276</td>\n",
              "      <td>9.6875</td>\n",
              "      <td>NaN</td>\n",
              "      <td>Q</td>\n",
              "    </tr>\n",
              "    <tr>\n",
              "      <th>3</th>\n",
              "      <td>895</td>\n",
              "      <td>3</td>\n",
              "      <td>Wirz, Mr. Albert</td>\n",
              "      <td>male</td>\n",
              "      <td>27.0</td>\n",
              "      <td>0</td>\n",
              "      <td>0</td>\n",
              "      <td>315154</td>\n",
              "      <td>8.6625</td>\n",
              "      <td>NaN</td>\n",
              "      <td>S</td>\n",
              "    </tr>\n",
              "    <tr>\n",
              "      <th>4</th>\n",
              "      <td>896</td>\n",
              "      <td>3</td>\n",
              "      <td>Hirvonen, Mrs. Alexander (Helga E Lindqvist)</td>\n",
              "      <td>female</td>\n",
              "      <td>22.0</td>\n",
              "      <td>1</td>\n",
              "      <td>1</td>\n",
              "      <td>3101298</td>\n",
              "      <td>12.2875</td>\n",
              "      <td>NaN</td>\n",
              "      <td>S</td>\n",
              "    </tr>\n",
              "    <tr>\n",
              "      <th>413</th>\n",
              "      <td>1305</td>\n",
              "      <td>3</td>\n",
              "      <td>Spector, Mr. Woolf</td>\n",
              "      <td>male</td>\n",
              "      <td>NaN</td>\n",
              "      <td>0</td>\n",
              "      <td>0</td>\n",
              "      <td>A.5. 3236</td>\n",
              "      <td>8.0500</td>\n",
              "      <td>NaN</td>\n",
              "      <td>S</td>\n",
              "    </tr>\n",
              "    <tr>\n",
              "      <th>414</th>\n",
              "      <td>1306</td>\n",
              "      <td>1</td>\n",
              "      <td>Oliva y Ocana, Dona. Fermina</td>\n",
              "      <td>female</td>\n",
              "      <td>39.0</td>\n",
              "      <td>0</td>\n",
              "      <td>0</td>\n",
              "      <td>PC 17758</td>\n",
              "      <td>108.9000</td>\n",
              "      <td>C105</td>\n",
              "      <td>C</td>\n",
              "    </tr>\n",
              "    <tr>\n",
              "      <th>415</th>\n",
              "      <td>1307</td>\n",
              "      <td>3</td>\n",
              "      <td>Saether, Mr. Simon Sivertsen</td>\n",
              "      <td>male</td>\n",
              "      <td>38.5</td>\n",
              "      <td>0</td>\n",
              "      <td>0</td>\n",
              "      <td>SOTON/O.Q. 3101262</td>\n",
              "      <td>7.2500</td>\n",
              "      <td>NaN</td>\n",
              "      <td>S</td>\n",
              "    </tr>\n",
              "    <tr>\n",
              "      <th>416</th>\n",
              "      <td>1308</td>\n",
              "      <td>3</td>\n",
              "      <td>Ware, Mr. Frederick</td>\n",
              "      <td>male</td>\n",
              "      <td>NaN</td>\n",
              "      <td>0</td>\n",
              "      <td>0</td>\n",
              "      <td>359309</td>\n",
              "      <td>8.0500</td>\n",
              "      <td>NaN</td>\n",
              "      <td>S</td>\n",
              "    </tr>\n",
              "    <tr>\n",
              "      <th>417</th>\n",
              "      <td>1309</td>\n",
              "      <td>3</td>\n",
              "      <td>Peter, Master. Michael J</td>\n",
              "      <td>male</td>\n",
              "      <td>NaN</td>\n",
              "      <td>1</td>\n",
              "      <td>1</td>\n",
              "      <td>2668</td>\n",
              "      <td>22.3583</td>\n",
              "      <td>NaN</td>\n",
              "      <td>C</td>\n",
              "    </tr>\n",
              "  </tbody>\n",
              "</table>\n",
              "</div>"
            ]
          },
          "metadata": {},
          "execution_count": 336
        }
      ]
    },
    {
      "cell_type": "markdown",
      "id": "basic-panama",
      "metadata": {
        "id": "basic-panama"
      },
      "source": [
        "<p> Now I am going to encode the Sex column into a binary 1s, and 0s output Sex_Binary column.</p>"
      ]
    },
    {
      "cell_type": "code",
      "execution_count": 337,
      "id": "37afb405",
      "metadata": {
        "id": "37afb405"
      },
      "outputs": [],
      "source": [
        "X, y = file1_train.drop(\"Survived\", axis=1), file1_train[\"Survived\"]"
      ]
    },
    {
      "cell_type": "code",
      "execution_count": 338,
      "id": "f286785b",
      "metadata": {
        "id": "f286785b"
      },
      "outputs": [],
      "source": [
        "objs = X.select_dtypes([\"object\"])\n",
        "num  = X.select_dtypes([\"number\"])"
      ]
    },
    {
      "cell_type": "code",
      "execution_count": 339,
      "id": "096e3987",
      "metadata": {
        "colab": {
          "base_uri": "https://localhost:8080/"
        },
        "id": "096e3987",
        "outputId": "88bd9f08-f4c2-4943-d37d-80aa41467278"
      },
      "outputs": [
        {
          "output_type": "execute_result",
          "data": {
            "text/plain": [
              "Name          0\n",
              "Sex           0\n",
              "Ticket        0\n",
              "Cabin       687\n",
              "Embarked      2\n",
              "dtype: int64"
            ]
          },
          "metadata": {},
          "execution_count": 339
        }
      ],
      "source": [
        "objs.isnull().sum().head()"
      ]
    },
    {
      "cell_type": "code",
      "execution_count": 340,
      "id": "87723698",
      "metadata": {
        "colab": {
          "base_uri": "https://localhost:8080/"
        },
        "id": "87723698",
        "outputId": "6938cf4d-5a2f-4c92-e335-7d2aad923d1f"
      },
      "outputs": [
        {
          "output_type": "execute_result",
          "data": {
            "text/plain": [
              "PassengerId      0\n",
              "Pclass           0\n",
              "Age            177\n",
              "SibSp            0\n",
              "Parch            0\n",
              "dtype: int64"
            ]
          },
          "metadata": {},
          "execution_count": 340
        }
      ],
      "source": [
        "num.isnull().sum().head()"
      ]
    },
    {
      "cell_type": "code",
      "source": [
        "def func_K1(index_arr):\n",
        "  return 10 if index_arr == 1 else ( 5 if index_arr == 2 else 0)"
      ],
      "metadata": {
        "id": "4DcUp7jZ1Mbk"
      },
      "id": "4DcUp7jZ1Mbk",
      "execution_count": 341,
      "outputs": []
    },
    {
      "cell_type": "code",
      "source": [
        "Target = file2_test.PassengerId"
      ],
      "metadata": {
        "id": "VozwZ_ibIGVy"
      },
      "id": "VozwZ_ibIGVy",
      "execution_count": 342,
      "outputs": []
    },
    {
      "cell_type": "code",
      "source": [
        "X.PassengerId = X.PassengerId.apply(func=func_K1)"
      ],
      "metadata": {
        "id": "mNQ2nb481ihl"
      },
      "id": "mNQ2nb481ihl",
      "execution_count": 343,
      "outputs": []
    },
    {
      "cell_type": "code",
      "source": [
        "file2_test.PassengerId = file2_test.PassengerId.apply(func=func_K1)"
      ],
      "metadata": {
        "id": "wQkblip31zwz"
      },
      "id": "wQkblip31zwz",
      "execution_count": 344,
      "outputs": []
    },
    {
      "cell_type": "code",
      "source": [
        "X, file2_test = X.drop('PassengerId', axis=1), file2_test.drop('PassengerId',axis=1)"
      ],
      "metadata": {
        "id": "0UvdQHzw1-Wj"
      },
      "id": "0UvdQHzw1-Wj",
      "execution_count": 345,
      "outputs": []
    },
    {
      "cell_type": "code",
      "source": [
        "num  = X.select_dtypes([\"number\"])"
      ],
      "metadata": {
        "id": "FnB0fHYMDeRO"
      },
      "id": "FnB0fHYMDeRO",
      "execution_count": 346,
      "outputs": []
    },
    {
      "cell_type": "code",
      "source": [
        "num.columns"
      ],
      "metadata": {
        "colab": {
          "base_uri": "https://localhost:8080/"
        },
        "id": "IS4pXZ7bDo6-",
        "outputId": "95410f29-f863-4b08-be99-8a97179799a9"
      },
      "id": "IS4pXZ7bDo6-",
      "execution_count": 347,
      "outputs": [
        {
          "output_type": "execute_result",
          "data": {
            "text/plain": [
              "Index(['Pclass', 'Age', 'SibSp', 'Parch', 'Fare'], dtype='object')"
            ]
          },
          "metadata": {},
          "execution_count": 347
        }
      ]
    },
    {
      "cell_type": "code",
      "source": [
        "def func_K2(K):\n",
        "  a = {\"G\": 0, \"F\":5, \"E\": 10,\n",
        "       \"D\": 15, \"C\":20, \"B\":25,\n",
        "       \"A\":30, \"T\":40}\n",
        "  return a.get(K)"
      ],
      "metadata": {
        "id": "RTim-T86QCVx"
      },
      "id": "RTim-T86QCVx",
      "execution_count": 348,
      "outputs": []
    },
    {
      "cell_type": "code",
      "source": [
        "X.Cabin = X.Cabin.fillna(\"C\").apply(lambda x: x[0]).apply(func=func_K2).astype(\"int32\")"
      ],
      "metadata": {
        "id": "dJmGXoeUDyxh"
      },
      "id": "dJmGXoeUDyxh",
      "execution_count": 349,
      "outputs": []
    },
    {
      "cell_type": "code",
      "source": [
        "file2_test.Cabin = file2_test.Cabin.fillna(\"C\").apply(lambda x: x[0]).apply(func=func_K2).astype(\"int32\")"
      ],
      "metadata": {
        "id": "LbrEujQOS7EJ"
      },
      "id": "LbrEujQOS7EJ",
      "execution_count": 350,
      "outputs": []
    },
    {
      "cell_type": "code",
      "source": [
        "objs = X.select_dtypes([\"object\"])\n",
        "num  = X.select_dtypes([\"number\"])"
      ],
      "metadata": {
        "id": "6KxmmqjrSNNJ"
      },
      "id": "6KxmmqjrSNNJ",
      "execution_count": 351,
      "outputs": []
    },
    {
      "cell_type": "code",
      "source": [
        "num.columns"
      ],
      "metadata": {
        "colab": {
          "base_uri": "https://localhost:8080/"
        },
        "id": "xbYffmHaSPjz",
        "outputId": "dbddec1a-5271-4850-a291-00eb85d36159"
      },
      "id": "xbYffmHaSPjz",
      "execution_count": 352,
      "outputs": [
        {
          "output_type": "execute_result",
          "data": {
            "text/plain": [
              "Index(['Pclass', 'Age', 'SibSp', 'Parch', 'Fare', 'Cabin'], dtype='object')"
            ]
          },
          "metadata": {},
          "execution_count": 352
        }
      ]
    },
    {
      "cell_type": "code",
      "source": [
        "numerical_features = num.columns\n",
        "numerical_pipeline = Pipeline(\n",
        "    steps=[\n",
        "            (\"imputer\", SimpleImputer(strategy = 'mean')),\n",
        "            (\"scaler\", StandardScaler())\n",
        "])"
      ],
      "metadata": {
        "id": "BlTHZdXSSbBB"
      },
      "id": "BlTHZdXSSbBB",
      "execution_count": 353,
      "outputs": []
    },
    {
      "cell_type": "code",
      "source": [
        "category_counts = X.Name.apply(func=lambda x: x.split(' ')[1]).value_counts()\n",
        "category_weights = {category: count for category, count in category_counts.items()}\n",
        "\n",
        "# Map the weights to the original DataFrame\n",
        "series1 = X.Name.apply(func=lambda x: x.split(' ')[1]).map(category_weights)\n",
        "\n",
        "# Normalize the weights based on the number of rows\n",
        "total_rows = len(X)\n",
        "X['Normalized_Weight'] = series1 / total_rows"
      ],
      "metadata": {
        "id": "iAbqpILL2XbT"
      },
      "id": "iAbqpILL2XbT",
      "execution_count": 354,
      "outputs": []
    },
    {
      "cell_type": "code",
      "source": [
        "X = X.drop('Name', axis=1)"
      ],
      "metadata": {
        "id": "8UXG-rSuDKK5"
      },
      "id": "8UXG-rSuDKK5",
      "execution_count": 355,
      "outputs": []
    },
    {
      "cell_type": "code",
      "source": [
        "num  = X.select_dtypes([\"number\"])"
      ],
      "metadata": {
        "id": "ai2EWSDc4dCk"
      },
      "id": "ai2EWSDc4dCk",
      "execution_count": 356,
      "outputs": []
    },
    {
      "cell_type": "code",
      "source": [
        "num.isnull().sum().head()"
      ],
      "metadata": {
        "colab": {
          "base_uri": "https://localhost:8080/"
        },
        "id": "srL7kB0W4fn0",
        "outputId": "1b0d6f0f-7b79-45c8-d176-1ccd8e449188"
      },
      "id": "srL7kB0W4fn0",
      "execution_count": 357,
      "outputs": [
        {
          "output_type": "execute_result",
          "data": {
            "text/plain": [
              "Pclass      0\n",
              "Age       177\n",
              "SibSp       0\n",
              "Parch       0\n",
              "Fare        0\n",
              "dtype: int64"
            ]
          },
          "metadata": {},
          "execution_count": 357
        }
      ]
    },
    {
      "cell_type": "code",
      "execution_count": 358,
      "id": "e0970be3",
      "metadata": {
        "colab": {
          "base_uri": "https://localhost:8080/"
        },
        "id": "e0970be3",
        "outputId": "7dd917bf-974a-44fe-c3e5-f885a8e00bd8"
      },
      "outputs": [
        {
          "output_type": "stream",
          "name": "stdout",
          "text": [
            "Name [1]\n",
            "Sex [577 314]\n",
            "Ticket [7 6 5 4 3 2 1]\n",
            "Embarked [644 168  77]\n"
          ]
        }
      ],
      "source": [
        "for i in range(len(objs.columns)):\n",
        "    print(objs.columns[i], objs.iloc[:,i].value_counts().unique())"
      ]
    },
    {
      "cell_type": "code",
      "execution_count": 359,
      "id": "3ec03285",
      "metadata": {
        "id": "3ec03285"
      },
      "outputs": [],
      "source": [
        "binary = [\"Sex\"]\n",
        "binary_pipeline = Pipeline(steps=[(\"binary\", OneHotEncoder())])"
      ]
    },
    {
      "cell_type": "code",
      "execution_count": 360,
      "id": "fad4b2c9",
      "metadata": {
        "id": "fad4b2c9"
      },
      "outputs": [],
      "source": [
        "#cat1 = [\"Ticket\", \"Cabin\", \"Embarked\"]\n",
        "cat1 = [\"Embarked\"]\n",
        "catergorical_pipeline = Pipeline(steps=[(\"imputer\", SimpleImputer(strategy = 'most_frequent')), (\"ordinal_encoder\", OrdinalEncoder()),(\"scaler\", StandardScaler())])"
      ]
    },
    {
      "cell_type": "code",
      "execution_count": 361,
      "id": "a225abcf",
      "metadata": {
        "id": "a225abcf"
      },
      "outputs": [],
      "source": [
        "data_preprocessor = ColumnTransformer( [('numerical', numerical_pipeline, numerical_features),\n",
        "                                      ('binary', binary_pipeline, binary),\n",
        "                                      ('categorical', catergorical_pipeline, cat1)])"
      ]
    },
    {
      "cell_type": "code",
      "execution_count": 362,
      "id": "f28f3c85",
      "metadata": {
        "colab": {
          "base_uri": "https://localhost:8080/",
          "height": 363
        },
        "id": "f28f3c85",
        "outputId": "faaf23e5-42ae-441c-86da-f60794d36488"
      },
      "outputs": [
        {
          "output_type": "execute_result",
          "data": {
            "text/plain": [
              "     Pclass     Sex   Age  SibSp  Parch            Ticket     Fare  Cabin  \\\n",
              "0         3    male  22.0      1      0         A/5 21171   7.2500     20   \n",
              "1         1  female  38.0      1      0          PC 17599  71.2833     20   \n",
              "2         3  female  26.0      0      0  STON/O2. 3101282   7.9250     20   \n",
              "3         1  female  35.0      1      0            113803  53.1000     20   \n",
              "4         3    male  35.0      0      0            373450   8.0500     20   \n",
              "886       2    male  27.0      0      0            211536  13.0000     20   \n",
              "887       1  female  19.0      0      0            112053  30.0000     25   \n",
              "888       3  female   NaN      1      2        W./C. 6607  23.4500     20   \n",
              "889       1    male  26.0      0      0            111369  30.0000     20   \n",
              "890       3    male  32.0      0      0            370376   7.7500     20   \n",
              "\n",
              "    Embarked  Normalized_Weight  \n",
              "0          S           0.563412  \n",
              "1          C           0.135802  \n",
              "2          S           0.200898  \n",
              "3          S           0.135802  \n",
              "4          S           0.563412  \n",
              "886        S           0.006734  \n",
              "887        S           0.200898  \n",
              "888        S           0.200898  \n",
              "889        C           0.563412  \n",
              "890        Q           0.563412  "
            ],
            "text/html": [
              "<div>\n",
              "<style scoped>\n",
              "    .dataframe tbody tr th:only-of-type {\n",
              "        vertical-align: middle;\n",
              "    }\n",
              "\n",
              "    .dataframe tbody tr th {\n",
              "        vertical-align: top;\n",
              "    }\n",
              "\n",
              "    .dataframe thead th {\n",
              "        text-align: right;\n",
              "    }\n",
              "</style>\n",
              "<table border=\"1\" class=\"dataframe\">\n",
              "  <thead>\n",
              "    <tr style=\"text-align: right;\">\n",
              "      <th></th>\n",
              "      <th>Pclass</th>\n",
              "      <th>Sex</th>\n",
              "      <th>Age</th>\n",
              "      <th>SibSp</th>\n",
              "      <th>Parch</th>\n",
              "      <th>Ticket</th>\n",
              "      <th>Fare</th>\n",
              "      <th>Cabin</th>\n",
              "      <th>Embarked</th>\n",
              "      <th>Normalized_Weight</th>\n",
              "    </tr>\n",
              "  </thead>\n",
              "  <tbody>\n",
              "    <tr>\n",
              "      <th>0</th>\n",
              "      <td>3</td>\n",
              "      <td>male</td>\n",
              "      <td>22.0</td>\n",
              "      <td>1</td>\n",
              "      <td>0</td>\n",
              "      <td>A/5 21171</td>\n",
              "      <td>7.2500</td>\n",
              "      <td>20</td>\n",
              "      <td>S</td>\n",
              "      <td>0.563412</td>\n",
              "    </tr>\n",
              "    <tr>\n",
              "      <th>1</th>\n",
              "      <td>1</td>\n",
              "      <td>female</td>\n",
              "      <td>38.0</td>\n",
              "      <td>1</td>\n",
              "      <td>0</td>\n",
              "      <td>PC 17599</td>\n",
              "      <td>71.2833</td>\n",
              "      <td>20</td>\n",
              "      <td>C</td>\n",
              "      <td>0.135802</td>\n",
              "    </tr>\n",
              "    <tr>\n",
              "      <th>2</th>\n",
              "      <td>3</td>\n",
              "      <td>female</td>\n",
              "      <td>26.0</td>\n",
              "      <td>0</td>\n",
              "      <td>0</td>\n",
              "      <td>STON/O2. 3101282</td>\n",
              "      <td>7.9250</td>\n",
              "      <td>20</td>\n",
              "      <td>S</td>\n",
              "      <td>0.200898</td>\n",
              "    </tr>\n",
              "    <tr>\n",
              "      <th>3</th>\n",
              "      <td>1</td>\n",
              "      <td>female</td>\n",
              "      <td>35.0</td>\n",
              "      <td>1</td>\n",
              "      <td>0</td>\n",
              "      <td>113803</td>\n",
              "      <td>53.1000</td>\n",
              "      <td>20</td>\n",
              "      <td>S</td>\n",
              "      <td>0.135802</td>\n",
              "    </tr>\n",
              "    <tr>\n",
              "      <th>4</th>\n",
              "      <td>3</td>\n",
              "      <td>male</td>\n",
              "      <td>35.0</td>\n",
              "      <td>0</td>\n",
              "      <td>0</td>\n",
              "      <td>373450</td>\n",
              "      <td>8.0500</td>\n",
              "      <td>20</td>\n",
              "      <td>S</td>\n",
              "      <td>0.563412</td>\n",
              "    </tr>\n",
              "    <tr>\n",
              "      <th>886</th>\n",
              "      <td>2</td>\n",
              "      <td>male</td>\n",
              "      <td>27.0</td>\n",
              "      <td>0</td>\n",
              "      <td>0</td>\n",
              "      <td>211536</td>\n",
              "      <td>13.0000</td>\n",
              "      <td>20</td>\n",
              "      <td>S</td>\n",
              "      <td>0.006734</td>\n",
              "    </tr>\n",
              "    <tr>\n",
              "      <th>887</th>\n",
              "      <td>1</td>\n",
              "      <td>female</td>\n",
              "      <td>19.0</td>\n",
              "      <td>0</td>\n",
              "      <td>0</td>\n",
              "      <td>112053</td>\n",
              "      <td>30.0000</td>\n",
              "      <td>25</td>\n",
              "      <td>S</td>\n",
              "      <td>0.200898</td>\n",
              "    </tr>\n",
              "    <tr>\n",
              "      <th>888</th>\n",
              "      <td>3</td>\n",
              "      <td>female</td>\n",
              "      <td>NaN</td>\n",
              "      <td>1</td>\n",
              "      <td>2</td>\n",
              "      <td>W./C. 6607</td>\n",
              "      <td>23.4500</td>\n",
              "      <td>20</td>\n",
              "      <td>S</td>\n",
              "      <td>0.200898</td>\n",
              "    </tr>\n",
              "    <tr>\n",
              "      <th>889</th>\n",
              "      <td>1</td>\n",
              "      <td>male</td>\n",
              "      <td>26.0</td>\n",
              "      <td>0</td>\n",
              "      <td>0</td>\n",
              "      <td>111369</td>\n",
              "      <td>30.0000</td>\n",
              "      <td>20</td>\n",
              "      <td>C</td>\n",
              "      <td>0.563412</td>\n",
              "    </tr>\n",
              "    <tr>\n",
              "      <th>890</th>\n",
              "      <td>3</td>\n",
              "      <td>male</td>\n",
              "      <td>32.0</td>\n",
              "      <td>0</td>\n",
              "      <td>0</td>\n",
              "      <td>370376</td>\n",
              "      <td>7.7500</td>\n",
              "      <td>20</td>\n",
              "      <td>Q</td>\n",
              "      <td>0.563412</td>\n",
              "    </tr>\n",
              "  </tbody>\n",
              "</table>\n",
              "</div>"
            ]
          },
          "metadata": {},
          "execution_count": 362
        }
      ],
      "source": [
        "func(X)"
      ]
    },
    {
      "cell_type": "code",
      "source": [
        "beta = X.columns.to_list()\n",
        "beta.remove('Ticket')\n"
      ],
      "metadata": {
        "id": "YDuDecWjL_Vp"
      },
      "id": "YDuDecWjL_Vp",
      "execution_count": 363,
      "outputs": []
    },
    {
      "cell_type": "code",
      "execution_count": 364,
      "id": "03e2cd19",
      "metadata": {
        "id": "03e2cd19"
      },
      "outputs": [],
      "source": [
        "X = Pipeline(steps=[('processing',data_preprocessor)]).fit_transform(X[beta])"
      ]
    },
    {
      "cell_type": "code",
      "source": [
        "class myCallback(keras.callbacks.Callback):\n",
        "        # Define the correct function signature for on_epoch_end\n",
        "        def on_epoch_end(self, epoch, logs=None):\n",
        "            if logs.get('accuracy') is not None and logs.get('accuracy') > 0.92:\n",
        "                print(\"\\nReached 92% accuracy so cancelling training!\")\n",
        "\n",
        "                # Stop training once the above condition is met\n",
        "                self.model.stop_training = True"
      ],
      "metadata": {
        "id": "NUEtcmfHE8Q2"
      },
      "id": "NUEtcmfHE8Q2",
      "execution_count": 365,
      "outputs": []
    },
    {
      "cell_type": "code",
      "execution_count": 366,
      "id": "caf63d58",
      "metadata": {
        "id": "caf63d58"
      },
      "outputs": [],
      "source": [
        "checkpoint = [ModelCheckpoint(\"Titanic.h5\", monitor='accuracy', verbose=1, save_best_only=True, save_weights_only=False, mode='auto', save_freq='epoch')]\n",
        "early = EarlyStopping(monitor='accuracy', min_delta=0, patience=10, verbose=1, mode='auto')"
      ]
    },
    {
      "cell_type": "code",
      "execution_count": 382,
      "id": "4e32aee5",
      "metadata": {
        "id": "4e32aee5"
      },
      "outputs": [],
      "source": [
        "def base_model1():\n",
        "    input_dim = X.shape[1]\n",
        "    model =Sequential([\n",
        "    Dense(32 , input_dim = input_dim, activation= \"linear\"),\n",
        "    Dense(16, activation= \"relu\"),\n",
        "    Dense(1,activation = \"sigmoid\"),\n",
        "    ])\n",
        "    model.compile(loss='binary_crossentropy',optimizer=tf.keras.optimizers.Nadam(), metrics=[\"accuracy\"])\n",
        "    hist = model.fit(X,y, epochs = 100, callbacks=[checkpoint,early,myCallback()])\n",
        "    return hist, model"
      ]
    },
    {
      "cell_type": "code",
      "execution_count": 383,
      "id": "882094d1",
      "metadata": {
        "colab": {
          "base_uri": "https://localhost:8080/"
        },
        "id": "882094d1",
        "outputId": "f07ba9c5-0652-4d7f-e137-3d82a5cb32e9"
      },
      "outputs": [
        {
          "output_type": "stream",
          "name": "stdout",
          "text": [
            "Epoch 1/100\n",
            "25/28 [=========================>....] - ETA: 0s - loss: 0.6145 - accuracy: 0.7163\n",
            "Epoch 1: accuracy did not improve from 0.84736\n",
            "28/28 [==============================] - 2s 9ms/step - loss: 0.6085 - accuracy: 0.7194\n",
            "Epoch 2/100\n",
            "22/28 [======================>.......] - ETA: 0s - loss: 0.5376 - accuracy: 0.7642\n",
            "Epoch 2: accuracy did not improve from 0.84736\n",
            "28/28 [==============================] - 0s 7ms/step - loss: 0.5248 - accuracy: 0.7722\n",
            "Epoch 3/100\n",
            "28/28 [==============================] - ETA: 0s - loss: 0.4774 - accuracy: 0.7980\n",
            "Epoch 3: accuracy did not improve from 0.84736\n",
            "28/28 [==============================] - 0s 8ms/step - loss: 0.4774 - accuracy: 0.7980\n",
            "Epoch 4/100\n",
            "26/28 [==========================>...] - ETA: 0s - loss: 0.4506 - accuracy: 0.8125\n",
            "Epoch 4: accuracy did not improve from 0.84736\n",
            "28/28 [==============================] - 0s 8ms/step - loss: 0.4517 - accuracy: 0.8103\n",
            "Epoch 5/100\n",
            "22/28 [======================>.......] - ETA: 0s - loss: 0.4536 - accuracy: 0.8040\n",
            "Epoch 5: accuracy did not improve from 0.84736\n",
            "28/28 [==============================] - 0s 8ms/step - loss: 0.4381 - accuracy: 0.8103\n",
            "Epoch 6/100\n",
            "21/28 [=====================>........] - ETA: 0s - loss: 0.4359 - accuracy: 0.8095\n",
            "Epoch 6: accuracy did not improve from 0.84736\n",
            "28/28 [==============================] - 0s 8ms/step - loss: 0.4313 - accuracy: 0.8114\n",
            "Epoch 7/100\n",
            "28/28 [==============================] - ETA: 0s - loss: 0.4265 - accuracy: 0.8159\n",
            "Epoch 7: accuracy did not improve from 0.84736\n",
            "28/28 [==============================] - 0s 8ms/step - loss: 0.4265 - accuracy: 0.8159\n",
            "Epoch 8/100\n",
            "27/28 [===========================>..] - ETA: 0s - loss: 0.4223 - accuracy: 0.8183\n",
            "Epoch 8: accuracy did not improve from 0.84736\n",
            "28/28 [==============================] - 0s 9ms/step - loss: 0.4231 - accuracy: 0.8182\n",
            "Epoch 9/100\n",
            "25/28 [=========================>....] - ETA: 0s - loss: 0.4196 - accuracy: 0.8163\n",
            "Epoch 9: accuracy did not improve from 0.84736\n",
            "28/28 [==============================] - 0s 9ms/step - loss: 0.4205 - accuracy: 0.8182\n",
            "Epoch 10/100\n",
            "24/28 [========================>.....] - ETA: 0s - loss: 0.4025 - accuracy: 0.8333\n",
            "Epoch 10: accuracy did not improve from 0.84736\n",
            "28/28 [==============================] - 0s 7ms/step - loss: 0.4175 - accuracy: 0.8238\n",
            "Epoch 11/100\n",
            "22/28 [======================>.......] - ETA: 0s - loss: 0.4192 - accuracy: 0.8182\n",
            "Epoch 11: accuracy did not improve from 0.84736\n",
            "28/28 [==============================] - 0s 8ms/step - loss: 0.4150 - accuracy: 0.8227\n",
            "Epoch 12/100\n",
            "24/28 [========================>.....] - ETA: 0s - loss: 0.4203 - accuracy: 0.8164\n",
            "Epoch 12: accuracy did not improve from 0.84736\n",
            "28/28 [==============================] - 0s 8ms/step - loss: 0.4130 - accuracy: 0.8215\n",
            "Epoch 13/100\n",
            "23/28 [=======================>......] - ETA: 0s - loss: 0.4016 - accuracy: 0.8356\n",
            "Epoch 13: accuracy did not improve from 0.84736\n",
            "28/28 [==============================] - 0s 7ms/step - loss: 0.4106 - accuracy: 0.8238\n",
            "Epoch 14/100\n",
            "22/28 [======================>.......] - ETA: 0s - loss: 0.4082 - accuracy: 0.8253\n",
            "Epoch 14: accuracy did not improve from 0.84736\n",
            "28/28 [==============================] - 0s 8ms/step - loss: 0.4090 - accuracy: 0.8283\n",
            "Epoch 15/100\n",
            "23/28 [=======================>......] - ETA: 0s - loss: 0.4000 - accuracy: 0.8247\n",
            "Epoch 15: accuracy did not improve from 0.84736\n",
            "28/28 [==============================] - 0s 7ms/step - loss: 0.4066 - accuracy: 0.8260\n",
            "Epoch 16/100\n",
            "28/28 [==============================] - ETA: 0s - loss: 0.4050 - accuracy: 0.8305\n",
            "Epoch 16: accuracy did not improve from 0.84736\n",
            "28/28 [==============================] - 0s 8ms/step - loss: 0.4050 - accuracy: 0.8305\n",
            "Epoch 17/100\n",
            "23/28 [=======================>......] - ETA: 0s - loss: 0.4147 - accuracy: 0.8261\n",
            "Epoch 17: accuracy did not improve from 0.84736\n",
            "28/28 [==============================] - 0s 8ms/step - loss: 0.4036 - accuracy: 0.8328\n",
            "Epoch 18/100\n",
            "23/28 [=======================>......] - ETA: 0s - loss: 0.4119 - accuracy: 0.8274\n",
            "Epoch 18: accuracy did not improve from 0.84736\n",
            "28/28 [==============================] - 0s 8ms/step - loss: 0.4025 - accuracy: 0.8305\n",
            "Epoch 19/100\n",
            "28/28 [==============================] - ETA: 0s - loss: 0.4010 - accuracy: 0.8305\n",
            "Epoch 19: accuracy did not improve from 0.84736\n",
            "28/28 [==============================] - 0s 8ms/step - loss: 0.4010 - accuracy: 0.8305\n",
            "Epoch 20/100\n",
            "26/28 [==========================>...] - ETA: 0s - loss: 0.3944 - accuracy: 0.8341\n",
            "Epoch 20: accuracy did not improve from 0.84736\n",
            "28/28 [==============================] - 0s 9ms/step - loss: 0.3994 - accuracy: 0.8316\n",
            "Epoch 21/100\n",
            "22/28 [======================>.......] - ETA: 0s - loss: 0.3999 - accuracy: 0.8381\n",
            "Epoch 21: accuracy did not improve from 0.84736\n",
            "28/28 [==============================] - 0s 8ms/step - loss: 0.3998 - accuracy: 0.8339\n",
            "Epoch 22/100\n",
            "23/28 [=======================>......] - ETA: 0s - loss: 0.3945 - accuracy: 0.8356\n",
            "Epoch 22: accuracy did not improve from 0.84736\n",
            "28/28 [==============================] - 0s 8ms/step - loss: 0.3979 - accuracy: 0.8305\n",
            "Epoch 23/100\n",
            "22/28 [======================>.......] - ETA: 0s - loss: 0.3760 - accuracy: 0.8509\n",
            "Epoch 23: accuracy did not improve from 0.84736\n",
            "28/28 [==============================] - 0s 8ms/step - loss: 0.3971 - accuracy: 0.8384\n",
            "Epoch 24/100\n",
            "23/28 [=======================>......] - ETA: 0s - loss: 0.3974 - accuracy: 0.8438\n",
            "Epoch 24: accuracy did not improve from 0.84736\n",
            "28/28 [==============================] - 0s 8ms/step - loss: 0.3960 - accuracy: 0.8395\n",
            "Epoch 25/100\n",
            "28/28 [==============================] - ETA: 0s - loss: 0.3949 - accuracy: 0.8395\n",
            "Epoch 25: accuracy did not improve from 0.84736\n",
            "28/28 [==============================] - 0s 8ms/step - loss: 0.3949 - accuracy: 0.8395\n",
            "Epoch 26/100\n",
            "23/28 [=======================>......] - ETA: 0s - loss: 0.4078 - accuracy: 0.8315\n",
            "Epoch 26: accuracy did not improve from 0.84736\n",
            "28/28 [==============================] - 0s 7ms/step - loss: 0.3943 - accuracy: 0.8373\n",
            "Epoch 27/100\n",
            "26/28 [==========================>...] - ETA: 0s - loss: 0.3994 - accuracy: 0.8413\n",
            "Epoch 27: accuracy did not improve from 0.84736\n",
            "28/28 [==============================] - 0s 7ms/step - loss: 0.3939 - accuracy: 0.8440\n",
            "Epoch 28/100\n",
            "23/28 [=======================>......] - ETA: 0s - loss: 0.3899 - accuracy: 0.8492\n",
            "Epoch 28: accuracy did not improve from 0.84736\n",
            "28/28 [==============================] - 0s 8ms/step - loss: 0.3926 - accuracy: 0.8440\n",
            "Epoch 29/100\n",
            "28/28 [==============================] - ETA: 0s - loss: 0.3918 - accuracy: 0.8429\n",
            "Epoch 29: accuracy did not improve from 0.84736\n",
            "28/28 [==============================] - 0s 8ms/step - loss: 0.3918 - accuracy: 0.8429\n",
            "Epoch 30/100\n",
            "25/28 [=========================>....] - ETA: 0s - loss: 0.3974 - accuracy: 0.8325\n",
            "Epoch 30: accuracy did not improve from 0.84736\n",
            "28/28 [==============================] - 0s 7ms/step - loss: 0.3913 - accuracy: 0.8373\n",
            "Epoch 31/100\n",
            "23/28 [=======================>......] - ETA: 0s - loss: 0.4003 - accuracy: 0.8424\n",
            "Epoch 31: accuracy improved from 0.84736 to 0.84848, saving model to Titanic.h5\n",
            "28/28 [==============================] - 0s 8ms/step - loss: 0.3911 - accuracy: 0.8485\n",
            "Epoch 32/100\n",
            "28/28 [==============================] - ETA: 0s - loss: 0.3904 - accuracy: 0.8395\n",
            "Epoch 32: accuracy did not improve from 0.84848\n",
            "28/28 [==============================] - 0s 8ms/step - loss: 0.3904 - accuracy: 0.8395\n",
            "Epoch 33/100\n",
            "23/28 [=======================>......] - ETA: 0s - loss: 0.3827 - accuracy: 0.8410\n",
            "Epoch 33: accuracy did not improve from 0.84848\n",
            "28/28 [==============================] - 0s 7ms/step - loss: 0.3891 - accuracy: 0.8373\n",
            "Epoch 34/100\n",
            "21/28 [=====================>........] - ETA: 0s - loss: 0.4012 - accuracy: 0.8348\n",
            "Epoch 34: accuracy did not improve from 0.84848\n",
            "28/28 [==============================] - 0s 8ms/step - loss: 0.3892 - accuracy: 0.8384\n",
            "Epoch 35/100\n",
            "24/28 [========================>.....] - ETA: 0s - loss: 0.3992 - accuracy: 0.8385\n",
            "Epoch 35: accuracy did not improve from 0.84848\n",
            "28/28 [==============================] - 0s 8ms/step - loss: 0.3888 - accuracy: 0.8429\n",
            "Epoch 36/100\n",
            "22/28 [======================>.......] - ETA: 0s - loss: 0.3733 - accuracy: 0.8580\n",
            "Epoch 36: accuracy did not improve from 0.84848\n",
            "28/28 [==============================] - 0s 8ms/step - loss: 0.3882 - accuracy: 0.8440\n",
            "Epoch 37/100\n",
            "28/28 [==============================] - ETA: 0s - loss: 0.3873 - accuracy: 0.8384\n",
            "Epoch 37: accuracy did not improve from 0.84848\n",
            "28/28 [==============================] - 0s 8ms/step - loss: 0.3873 - accuracy: 0.8384\n",
            "Epoch 38/100\n",
            "25/28 [=========================>....] - ETA: 0s - loss: 0.3882 - accuracy: 0.8425\n",
            "Epoch 38: accuracy did not improve from 0.84848\n",
            "28/28 [==============================] - 0s 9ms/step - loss: 0.3863 - accuracy: 0.8418\n",
            "Epoch 39/100\n",
            "23/28 [=======================>......] - ETA: 0s - loss: 0.3791 - accuracy: 0.8465\n",
            "Epoch 39: accuracy did not improve from 0.84848\n",
            "28/28 [==============================] - 0s 7ms/step - loss: 0.3854 - accuracy: 0.8384\n",
            "Epoch 40/100\n",
            "23/28 [=======================>......] - ETA: 0s - loss: 0.3973 - accuracy: 0.8315\n",
            "Epoch 40: accuracy did not improve from 0.84848\n",
            "28/28 [==============================] - 0s 7ms/step - loss: 0.3855 - accuracy: 0.8418\n",
            "Epoch 41/100\n",
            "24/28 [========================>.....] - ETA: 0s - loss: 0.3947 - accuracy: 0.8333\n",
            "Epoch 41: accuracy did not improve from 0.84848\n",
            "28/28 [==============================] - 0s 7ms/step - loss: 0.3853 - accuracy: 0.8418\n",
            "Epoch 41: early stopping\n"
          ]
        }
      ],
      "source": [
        "hist, model = base_model1()"
      ]
    },
    {
      "cell_type": "code",
      "execution_count": 384,
      "id": "10f77f7b",
      "metadata": {
        "id": "10f77f7b"
      },
      "outputs": [],
      "source": [
        "X_test = data_preprocessor.fit_transform(file2_test)"
      ]
    },
    {
      "cell_type": "code",
      "execution_count": 385,
      "id": "2c116ba9",
      "metadata": {
        "id": "2c116ba9"
      },
      "outputs": [],
      "source": [
        "PassengerId = Target.to_list()"
      ]
    },
    {
      "cell_type": "code",
      "source": [
        "model.predict(X_test)"
      ],
      "metadata": {
        "colab": {
          "base_uri": "https://localhost:8080/"
        },
        "id": "Oc6pvzBgHvEg",
        "outputId": "0fe66f79-447d-40c7-ce0f-ddc5285c51a3"
      },
      "id": "Oc6pvzBgHvEg",
      "execution_count": 386,
      "outputs": [
        {
          "output_type": "stream",
          "name": "stdout",
          "text": [
            "14/14 [==============================] - 0s 2ms/step\n"
          ]
        },
        {
          "output_type": "execute_result",
          "data": {
            "text/plain": [
              "array([[1.14914104e-01],\n",
              "       [3.58320177e-01],\n",
              "       [7.83546716e-02],\n",
              "       [1.14453994e-01],\n",
              "       [4.00179684e-01],\n",
              "       [2.31126428e-01],\n",
              "       [5.90137601e-01],\n",
              "       [1.62456825e-01],\n",
              "       [7.15043426e-01],\n",
              "       [4.30801250e-02],\n",
              "       [1.01181194e-01],\n",
              "       [1.97202265e-01],\n",
              "       [9.89550292e-01],\n",
              "       [3.88867557e-02],\n",
              "       [9.68530238e-01],\n",
              "       [9.52777743e-01],\n",
              "       [1.02665469e-01],\n",
              "       [2.66613156e-01],\n",
              "       [4.08748269e-01],\n",
              "       [5.66311717e-01],\n",
              "       [3.73130232e-01],\n",
              "       [5.71912646e-01],\n",
              "       [9.79445994e-01],\n",
              "       [5.63172102e-01],\n",
              "       [8.73219907e-01],\n",
              "       [2.01210212e-02],\n",
              "       [9.88263965e-01],\n",
              "       [2.47580454e-01],\n",
              "       [1.88530535e-01],\n",
              "       [7.25643039e-02],\n",
              "       [5.71788773e-02],\n",
              "       [8.61524791e-02],\n",
              "       [2.03796506e-01],\n",
              "       [2.07984135e-01],\n",
              "       [5.43225408e-01],\n",
              "       [3.14021707e-01],\n",
              "       [4.78358090e-01],\n",
              "       [4.96001303e-01],\n",
              "       [1.24015607e-01],\n",
              "       [2.18604028e-01],\n",
              "       [1.93582833e-01],\n",
              "       [4.70526457e-01],\n",
              "       [6.74345866e-02],\n",
              "       [8.76533687e-01],\n",
              "       [9.77351487e-01],\n",
              "       [1.20864257e-01],\n",
              "       [3.02850783e-01],\n",
              "       [1.32004321e-01],\n",
              "       [9.65358377e-01],\n",
              "       [3.97777289e-01],\n",
              "       [4.78355527e-01],\n",
              "       [1.65915370e-01],\n",
              "       [8.21047843e-01],\n",
              "       [7.74658740e-01],\n",
              "       [1.40262827e-01],\n",
              "       [2.67386902e-02],\n",
              "       [8.60615522e-02],\n",
              "       [3.39542031e-01],\n",
              "       [6.72691017e-02],\n",
              "       [9.61932123e-01],\n",
              "       [1.82088017e-01],\n",
              "       [7.83400014e-02],\n",
              "       [1.68801412e-01],\n",
              "       [5.98663628e-01],\n",
              "       [6.20851457e-01],\n",
              "       [8.79381955e-01],\n",
              "       [6.40359879e-01],\n",
              "       [1.98371410e-01],\n",
              "       [3.13278884e-01],\n",
              "       [5.00834823e-01],\n",
              "       [5.93288481e-01],\n",
              "       [1.38505533e-01],\n",
              "       [4.80405033e-01],\n",
              "       [5.75473070e-01],\n",
              "       [9.56283987e-01],\n",
              "       [2.89174885e-01],\n",
              "       [1.01459868e-01],\n",
              "       [9.65347469e-01],\n",
              "       [8.11909661e-02],\n",
              "       [5.93288481e-01],\n",
              "       [7.23907351e-01],\n",
              "       [2.36551121e-01],\n",
              "       [1.86097190e-01],\n",
              "       [1.01181194e-01],\n",
              "       [1.21144116e-01],\n",
              "       [1.39134049e-01],\n",
              "       [5.88517368e-01],\n",
              "       [5.19682884e-01],\n",
              "       [5.90481520e-01],\n",
              "       [7.93617487e-01],\n",
              "       [4.13756192e-01],\n",
              "       [1.00995786e-01],\n",
              "       [9.89311099e-01],\n",
              "       [1.01459868e-01],\n",
              "       [3.96254569e-01],\n",
              "       [1.20593496e-01],\n",
              "       [9.51261044e-01],\n",
              "       [1.05709404e-01],\n",
              "       [4.97019768e-01],\n",
              "       [9.24428999e-02],\n",
              "       [9.89864647e-01],\n",
              "       [9.93949994e-02],\n",
              "       [1.32004321e-01],\n",
              "       [1.16625093e-01],\n",
              "       [6.52123332e-01],\n",
              "       [1.38935700e-01],\n",
              "       [1.96377307e-01],\n",
              "       [1.32004321e-01],\n",
              "       [1.02581434e-01],\n",
              "       [5.95206559e-01],\n",
              "       [9.95283648e-02],\n",
              "       [5.90520561e-01],\n",
              "       [9.83607352e-01],\n",
              "       [6.32710516e-01],\n",
              "       [9.47317600e-01],\n",
              "       [2.93860316e-01],\n",
              "       [1.66598260e-01],\n",
              "       [8.45265210e-01],\n",
              "       [2.67863601e-01],\n",
              "       [9.16418672e-01],\n",
              "       [9.30822849e-01],\n",
              "       [9.93568078e-02],\n",
              "       [9.90742266e-01],\n",
              "       [1.08097523e-01],\n",
              "       [1.32004321e-01],\n",
              "       [6.32045686e-01],\n",
              "       [1.33154780e-01],\n",
              "       [4.44365859e-01],\n",
              "       [7.58594349e-02],\n",
              "       [1.25192478e-01],\n",
              "       [9.56655741e-02],\n",
              "       [2.25616664e-01],\n",
              "       [2.85104096e-01],\n",
              "       [1.25022411e-01],\n",
              "       [6.10907488e-02],\n",
              "       [1.24774076e-01],\n",
              "       [2.01572284e-01],\n",
              "       [9.30858627e-02],\n",
              "       [4.91019696e-01],\n",
              "       [2.60927118e-02],\n",
              "       [2.87333746e-02],\n",
              "       [9.71038699e-01],\n",
              "       [1.42266244e-01],\n",
              "       [9.88310352e-02],\n",
              "       [2.12910175e-01],\n",
              "       [9.13388096e-03],\n",
              "       [6.59245253e-01],\n",
              "       [1.33715138e-01],\n",
              "       [2.60875851e-01],\n",
              "       [1.21878549e-01],\n",
              "       [9.80551600e-01],\n",
              "       [1.69886440e-01],\n",
              "       [3.27278338e-02],\n",
              "       [3.99810433e-01],\n",
              "       [1.23080704e-02],\n",
              "       [1.24162585e-01],\n",
              "       [9.53975618e-01],\n",
              "       [4.90507036e-01],\n",
              "       [3.27345878e-01],\n",
              "       [4.97391671e-01],\n",
              "       [5.90461969e-01],\n",
              "       [7.04757094e-01],\n",
              "       [8.81740749e-01],\n",
              "       [9.96834487e-02],\n",
              "       [7.64089450e-02],\n",
              "       [3.65728825e-01],\n",
              "       [2.68128186e-01],\n",
              "       [7.68322796e-02],\n",
              "       [9.81290638e-01],\n",
              "       [4.95036662e-01],\n",
              "       [1.00602813e-01],\n",
              "       [1.97468042e-01],\n",
              "       [9.26359594e-02],\n",
              "       [1.68374285e-01],\n",
              "       [2.84683537e-02],\n",
              "       [9.30940807e-01],\n",
              "       [8.89055729e-01],\n",
              "       [3.76864523e-01],\n",
              "       [7.14099705e-01],\n",
              "       [9.14843380e-01],\n",
              "       [8.11909661e-02],\n",
              "       [5.91910779e-01],\n",
              "       [9.94246185e-01],\n",
              "       [1.32004321e-01],\n",
              "       [9.70867515e-01],\n",
              "       [7.77727813e-02],\n",
              "       [9.33048725e-01],\n",
              "       [4.41583879e-02],\n",
              "       [1.40420650e-03],\n",
              "       [7.66311511e-02],\n",
              "       [8.00266415e-02],\n",
              "       [2.60949939e-01],\n",
              "       [3.32364202e-01],\n",
              "       [8.17255005e-02],\n",
              "       [8.20731997e-01],\n",
              "       [9.21224356e-02],\n",
              "       [9.25843954e-01],\n",
              "       [5.19228160e-01],\n",
              "       [1.09308556e-01],\n",
              "       [4.78488088e-01],\n",
              "       [6.01544559e-01],\n",
              "       [8.67070079e-01],\n",
              "       [3.42379153e-01],\n",
              "       [9.60732162e-01],\n",
              "       [9.52007920e-02],\n",
              "       [3.21902901e-01],\n",
              "       [5.93184173e-01],\n",
              "       [1.01075493e-01],\n",
              "       [9.84211981e-01],\n",
              "       [1.20782956e-01],\n",
              "       [1.21828958e-01],\n",
              "       [9.97750387e-02],\n",
              "       [2.48049691e-01],\n",
              "       [7.73561716e-01],\n",
              "       [2.86028124e-02],\n",
              "       [2.12856606e-01],\n",
              "       [5.90657294e-01],\n",
              "       [1.92342147e-01],\n",
              "       [9.54612017e-01],\n",
              "       [1.01459868e-01],\n",
              "       [9.38303530e-01],\n",
              "       [1.38835832e-01],\n",
              "       [9.68923151e-01],\n",
              "       [1.38313144e-01],\n",
              "       [9.67722297e-01],\n",
              "       [5.52964032e-01],\n",
              "       [1.28836095e-01],\n",
              "       [5.90481520e-01],\n",
              "       [7.77003244e-02],\n",
              "       [7.40821734e-02],\n",
              "       [2.80418754e-01],\n",
              "       [9.87095356e-01],\n",
              "       [9.22780186e-02],\n",
              "       [1.32267565e-01],\n",
              "       [4.60306346e-01],\n",
              "       [1.45110786e-01],\n",
              "       [2.66238809e-01],\n",
              "       [2.81347096e-01],\n",
              "       [9.31632400e-01],\n",
              "       [9.86804724e-01],\n",
              "       [9.67110693e-01],\n",
              "       [8.25123966e-01],\n",
              "       [3.90588701e-01],\n",
              "       [1.01181194e-01],\n",
              "       [1.07117817e-01],\n",
              "       [3.70628029e-01],\n",
              "       [8.90501320e-01],\n",
              "       [6.47389963e-02],\n",
              "       [9.16418672e-01],\n",
              "       [5.62287211e-01],\n",
              "       [9.66606796e-01],\n",
              "       [1.45248398e-01],\n",
              "       [4.96628881e-01],\n",
              "       [1.27813399e-01],\n",
              "       [9.63706300e-02],\n",
              "       [1.00602813e-01],\n",
              "       [1.32004321e-01],\n",
              "       [1.09556898e-01],\n",
              "       [9.07235980e-01],\n",
              "       [1.38285667e-01],\n",
              "       [4.76080887e-02],\n",
              "       [1.38423026e-01],\n",
              "       [8.89969707e-01],\n",
              "       [6.94377959e-01],\n",
              "       [1.40861213e-01],\n",
              "       [1.01181194e-01],\n",
              "       [2.64454722e-01],\n",
              "       [1.00602813e-01],\n",
              "       [4.78358090e-01],\n",
              "       [1.83661923e-01],\n",
              "       [2.51502424e-01],\n",
              "       [1.32004321e-01],\n",
              "       [9.84554589e-01],\n",
              "       [5.35380304e-01],\n",
              "       [1.68374285e-01],\n",
              "       [9.26924348e-01],\n",
              "       [8.46567601e-02],\n",
              "       [7.14089498e-02],\n",
              "       [8.32792744e-02],\n",
              "       [1.18180409e-01],\n",
              "       [4.92557675e-01],\n",
              "       [6.22123897e-01],\n",
              "       [5.90481520e-01],\n",
              "       [7.27026701e-01],\n",
              "       [6.65482402e-01],\n",
              "       [8.22235122e-02],\n",
              "       [1.00096233e-01],\n",
              "       [4.50306177e-01],\n",
              "       [3.42010617e-01],\n",
              "       [1.01459868e-01],\n",
              "       [2.59128273e-01],\n",
              "       [5.89081764e-01],\n",
              "       [1.68374285e-01],\n",
              "       [4.05144632e-01],\n",
              "       [8.54555815e-02],\n",
              "       [1.16835482e-01],\n",
              "       [9.78353143e-01],\n",
              "       [7.25643039e-02],\n",
              "       [2.59396791e-01],\n",
              "       [1.05564810e-01],\n",
              "       [9.52251703e-02],\n",
              "       [2.56653190e-01],\n",
              "       [1.02151752e-01],\n",
              "       [1.26454860e-01],\n",
              "       [5.90481520e-01],\n",
              "       [9.79557931e-01],\n",
              "       [2.61038333e-01],\n",
              "       [7.50185430e-01],\n",
              "       [3.39908957e-01],\n",
              "       [3.72607678e-01],\n",
              "       [1.70545667e-01],\n",
              "       [2.53873706e-01],\n",
              "       [1.00648955e-01],\n",
              "       [5.94327748e-01],\n",
              "       [9.72043633e-01],\n",
              "       [6.55294359e-01],\n",
              "       [4.45049673e-01],\n",
              "       [1.51804253e-01],\n",
              "       [1.12912081e-01],\n",
              "       [9.80407745e-02],\n",
              "       [1.16625093e-01],\n",
              "       [4.35779303e-01],\n",
              "       [4.32416260e-01],\n",
              "       [2.50395596e-01],\n",
              "       [9.62028325e-01],\n",
              "       [1.27298161e-01],\n",
              "       [9.02956545e-01],\n",
              "       [2.53394753e-01],\n",
              "       [9.04939696e-02],\n",
              "       [1.29478529e-01],\n",
              "       [8.08630705e-01],\n",
              "       [3.02128702e-01],\n",
              "       [1.68374285e-01],\n",
              "       [5.90544105e-01],\n",
              "       [1.12988770e-01],\n",
              "       [2.62012988e-01],\n",
              "       [7.79462904e-02],\n",
              "       [2.38849759e-01],\n",
              "       [1.15632869e-01],\n",
              "       [1.68374285e-01],\n",
              "       [1.65520206e-01],\n",
              "       [9.48960632e-02],\n",
              "       [6.55445904e-02],\n",
              "       [8.63776445e-01],\n",
              "       [9.18292925e-02],\n",
              "       [5.41007459e-01],\n",
              "       [9.30858627e-02],\n",
              "       [5.97874641e-01],\n",
              "       [1.02913141e-01],\n",
              "       [8.79158497e-01],\n",
              "       [9.76862013e-01],\n",
              "       [9.52007920e-02],\n",
              "       [2.35181242e-01],\n",
              "       [6.49390593e-02],\n",
              "       [7.45959580e-01],\n",
              "       [3.71093810e-01],\n",
              "       [9.64539886e-01],\n",
              "       [1.01157986e-01],\n",
              "       [1.32004321e-01],\n",
              "       [4.23173547e-01],\n",
              "       [1.56575290e-04],\n",
              "       [9.32237506e-01],\n",
              "       [8.79158497e-01],\n",
              "       [1.14453994e-01],\n",
              "       [9.94019747e-01],\n",
              "       [1.06282197e-01],\n",
              "       [1.39134049e-01],\n",
              "       [5.68290174e-01],\n",
              "       [9.77065206e-01],\n",
              "       [1.49023667e-01],\n",
              "       [1.29415408e-01],\n",
              "       [9.81989622e-01],\n",
              "       [1.78595260e-01],\n",
              "       [7.47679621e-02],\n",
              "       [9.90253210e-01],\n",
              "       [9.48117793e-01],\n",
              "       [3.34390223e-01],\n",
              "       [1.28351972e-01],\n",
              "       [1.79513678e-01],\n",
              "       [2.84389704e-02],\n",
              "       [1.32004321e-01],\n",
              "       [1.57988697e-01],\n",
              "       [4.93680328e-01],\n",
              "       [4.19816285e-01],\n",
              "       [8.06427374e-02],\n",
              "       [7.90242612e-01],\n",
              "       [1.24634877e-01],\n",
              "       [6.71560764e-02],\n",
              "       [1.96239769e-01],\n",
              "       [7.34787807e-02],\n",
              "       [2.67982781e-01],\n",
              "       [9.61975813e-01],\n",
              "       [7.13116348e-01],\n",
              "       [7.24959746e-02],\n",
              "       [1.26231248e-02],\n",
              "       [9.92936909e-01],\n",
              "       [1.70942590e-01],\n",
              "       [9.90757406e-01],\n",
              "       [1.33125365e-01],\n",
              "       [1.28858656e-01],\n",
              "       [9.68753040e-01],\n",
              "       [7.15647861e-02],\n",
              "       [9.86646414e-01],\n",
              "       [3.87212604e-01],\n",
              "       [5.47155201e-01],\n",
              "       [4.11343455e-01],\n",
              "       [1.09010927e-01],\n",
              "       [2.37232596e-01],\n",
              "       [5.90422988e-01],\n",
              "       [6.63049281e-01],\n",
              "       [5.90481520e-01],\n",
              "       [9.88269925e-01],\n",
              "       [4.81746316e-01],\n",
              "       [1.01459868e-01],\n",
              "       [9.72793758e-01],\n",
              "       [7.41866678e-02],\n",
              "       [1.01459980e-01],\n",
              "       [2.07111716e-01]], dtype=float32)"
            ]
          },
          "metadata": {},
          "execution_count": 386
        }
      ]
    },
    {
      "cell_type": "code",
      "execution_count": 387,
      "id": "78689971",
      "metadata": {
        "id": "78689971",
        "colab": {
          "base_uri": "https://localhost:8080/"
        },
        "outputId": "86ffaabf-d883-4890-8fe7-19f0c525f788"
      },
      "outputs": [
        {
          "output_type": "stream",
          "name": "stdout",
          "text": [
            "14/14 [==============================] - 0s 2ms/step\n"
          ]
        }
      ],
      "source": [
        "final_pred = (model.predict(X_test) > 0.5).astype(\"int32\").flatten()"
      ]
    },
    {
      "cell_type": "code",
      "execution_count": 388,
      "id": "46f7059c",
      "metadata": {
        "id": "46f7059c"
      },
      "outputs": [],
      "source": [
        "d = {\"PassengerId\":PassengerId, \"Survived\":final_pred}\n",
        "pd.DataFrame(data=d,index=None, columns= [\"PassengerId\",\"Survived\"]).to_csv(\"12172023.csv\",index=False, header=1)"
      ]
    },
    {
      "cell_type": "code",
      "execution_count": null,
      "id": "43cae013",
      "metadata": {
        "id": "43cae013"
      },
      "outputs": [],
      "source": []
    }
  ],
  "metadata": {
    "kernelspec": {
      "display_name": "Python 3 (ipykernel)",
      "language": "python",
      "name": "python3"
    },
    "language_info": {
      "codemirror_mode": {
        "name": "ipython",
        "version": 3
      },
      "file_extension": ".py",
      "mimetype": "text/x-python",
      "name": "python",
      "nbconvert_exporter": "python",
      "pygments_lexer": "ipython3",
      "version": "3.8.12"
    },
    "colab": {
      "provenance": []
    }
  },
  "nbformat": 4,
  "nbformat_minor": 5
}